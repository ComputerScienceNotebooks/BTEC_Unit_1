{
 "cells": [
  {
   "cell_type": "markdown",
   "metadata": {
    "slideshow": {
     "slide_type": "slide"
    }
   },
   "source": [
    "# Pseudocode"
   ]
  },
  {
   "cell_type": "markdown",
   "metadata": {
    "slideshow": {
     "slide_type": "slide"
    }
   },
   "source": [
    "## Lesson objectives"
   ]
  },
  {
   "cell_type": "markdown",
   "metadata": {
    "slideshow": {
     "slide_type": "subslide"
    }
   },
   "source": [
    "* Identify decisions, loops and assignments in pseudocode\n",
    "* Recognise the key syntax in pseudocode\n",
    "* Create solutions using pseudocode\n"
   ]
  },
  {
   "cell_type": "markdown",
   "metadata": {
    "slideshow": {
     "slide_type": "slide"
    }
   },
   "source": [
    "## Basic operations in pseudocode\n",
    "sequence \n",
    "\n",
    "structure:\n",
    "* hierarchy\n",
    "* indentation\n",
    "\n",
    "operations:\n",
    "* BEGIN\n",
    "* END\n",
    "* INPUT\n",
    "* OUTPUT\n",
    "* PRINT\n",
    "* READ\n",
    "* WRITE\n",
    "\n",
    "decisions: \n",
    "* IF \n",
    "* THEN\n",
    "* ELSE\n",
    "* ELSEIF (ELIF)\n",
    "* WHEN\n",
    "\n",
    "repetition:\n",
    "* FOR\n",
    "* REPEAT UNTIL\n",
    "* WHILE\n",
    "* WHILE NOT."
   ]
  },
  {
   "cell_type": "markdown",
   "metadata": {
    "slideshow": {
     "slide_type": "subslide"
    }
   },
   "source": [
    "** Task 1 - What do you think this piece of code does? **"
   ]
  },
  {
   "cell_type": "raw",
   "metadata": {
    "slideshow": {
     "slide_type": "fragment"
    }
   },
   "source": [
    "BEGIN\n",
    "FOR k from 1 to 100:\n",
    "\tA[k] = A[k] + 1\n",
    "END"
   ]
  },
  {
   "cell_type": "markdown",
   "metadata": {
    "slideshow": {
     "slide_type": "fragment"
    }
   },
   "source": [
    "Given and array of (at least) 100 numbers, the program increases each number by 1."
   ]
  },
  {
   "cell_type": "code",
   "execution_count": 6,
   "metadata": {
    "collapsed": false,
    "slideshow": {
     "slide_type": "fragment"
    }
   },
   "outputs": [
    {
     "name": "stdout",
     "output_type": "stream",
     "text": [
      "[37, 24, 79, 97, 12, 74, 96, 35, 92, 9, 99, 94, 32, 71, 17, 51, 33, 90, 39, 73, 78, 87, 76, 80, 34, 95, 31, 56, 88, 20, 82, 19, 63, 23, 40, 6, 53, 29, 54, 38, 42, 4, 91, 61, 10, 75, 69, 45, 25, 1, 58, 2, 43, 13, 52, 26, 57, 70, 59, 48, 3, 72, 50, 21, 85, 30, 49, 47, 27, 64, 81, 65, 41, 67, 16, 60, 22, 28, 86, 0, 18, 7, 93, 66, 77, 44, 62, 89, 98, 5, 83, 14, 68, 36, 8, 55, 84, 15, 46, 11]\n",
      "[38, 25, 80, 98, 13, 75, 97, 36, 93, 10, 100, 95, 33, 72, 18, 52, 34, 91, 40, 74, 79, 88, 77, 81, 35, 96, 32, 57, 89, 21, 83, 20, 64, 24, 41, 7, 54, 30, 55, 39, 43, 5, 92, 62, 11, 76, 70, 46, 26, 2, 59, 3, 44, 14, 53, 27, 58, 71, 60, 49, 4, 73, 51, 22, 86, 31, 50, 48, 28, 65, 82, 66, 42, 68, 17, 61, 23, 29, 87, 1, 19, 8, 94, 67, 78, 45, 63, 90, 99, 6, 84, 15, 69, 37, 9, 56, 85, 16, 47, 12]\n"
     ]
    }
   ],
   "source": [
    "# Python solution \n",
    "\n",
    "import random\n",
    "A = random.sample(range(100), 100)\n",
    "print(A)\n",
    "\n",
    "# Solution 1\n",
    "#for K in range(100):\n",
    "#    A[K] = A[K] + 1\n",
    "#print(A)\n",
    "\n",
    "# Solution 2\n",
    "A = [K+1 for K in A]\n",
    "print(A)"
   ]
  },
  {
   "cell_type": "markdown",
   "metadata": {},
   "source": [
    "** Task 2 - mini problem **\n",
    "\n",
    "Choose a problem from the board and construct the pseudocode to solve it.\n"
   ]
  },
  {
   "cell_type": "markdown",
   "metadata": {},
   "source": [
    "*Double click here and type in your answer*"
   ]
  },
  {
   "cell_type": "markdown",
   "metadata": {},
   "source": [
    "** Task 3 - for loop **\n",
    "\n",
    "The test scores of 100 students are held in an array ** scores **. Construct pseudocode to output the maximum score. \n",
    "\n"
   ]
  },
  {
   "cell_type": "raw",
   "metadata": {},
   "source": [
    "max = scores[0]\n",
    "FOR x FROM 0 TO 99:\n",
    "\tIF scores[x] > max then\n",
    "\t\tmax = scores[x]\n",
    "\tEND IF\n",
    "END FOR\n",
    "OUTPUT max\n"
   ]
  },
  {
   "cell_type": "markdown",
   "metadata": {},
   "source": [
    "Modify the pseudocode previously created to perform ONE of the followings:\n",
    "\n",
    "* to output the minimum score.\n",
    "* to output the number of scores above 50.\n",
    "* to output the average score.\n",
    "* to count the number of scores that lie between 50 and 80. (Clue: This is almost identical to exercise 2, except that scores have to be above 50 AND below 80.)\n"
   ]
  },
  {
   "cell_type": "raw",
   "metadata": {},
   "source": [
    "min = scores[0]\n",
    "FOR x FROM 0 TO 99:\n",
    "\tIF scores[x] < min THEN:\n",
    "\t\tmin = scores[x]\n",
    "\tEND IF\n",
    "END FOR\n",
    "OUTPUT min\n",
    "\n",
    "threshold = 50\n",
    "counter = 0\n",
    "FOR x FROM 0 TO 99:\n",
    "\tIF scores[x] > threshold THEN:\n",
    "\t\tcounter = counter +1\n",
    "\tEND IF\n",
    "END FOR\n",
    "OUTPUT counter\n",
    "\n",
    "sum = 0\n",
    "FOR x FROM 0 TO 99:\n",
    "\tsum = sum + scores[x]\n",
    "END FOR\n",
    "average = sum/100\n",
    "OUTPUT average\n",
    "\n",
    "threshold1 = 50\n",
    "threshold2 = 80\n",
    "counter = 0\n",
    "FOR x FROM 0 TO 99:\n",
    "\tIF scores[x] > threshold AND scores[x] < threshold THEN:\n",
    "\t\tcounter = counter +1\n",
    "\tEND IF\n",
    "END FOR\n",
    "OUTPUT counter"
   ]
  },
  {
   "cell_type": "markdown",
   "metadata": {},
   "source": [
    "** Task 4 - while loop **\n",
    "\n",
    "An array ** data ** contains daily Antarctic temperature readings in degrees Celsius. Only the first portion of the array is populated and a flag value of -999 is used to indicate the position of the last reading. Construct pseudocode to output the maximum temperature.\n"
   ]
  },
  {
   "cell_type": "raw",
   "metadata": {},
   "source": [
    "x = 0\n",
    "max = data[0]\n",
    "WHILE data[x] ≠ -999\n",
    "\tIF data[x] > max THEN:\n",
    "\t\tmax = data[x]\n",
    "\tEND IF\n",
    "\tx = x + 1\n",
    "END WHILE\n",
    "OUTPUT max\n"
   ]
  },
  {
   "cell_type": "code",
   "execution_count": null,
   "metadata": {
    "collapsed": true
   },
   "outputs": [],
   "source": []
  }
 ],
 "metadata": {
  "celltoolbar": "Slideshow",
  "kernelspec": {
   "display_name": "Python 3",
   "language": "python",
   "name": "python3"
  },
  "language_info": {
   "codemirror_mode": {
    "name": "ipython",
    "version": 3
   },
   "file_extension": ".py",
   "mimetype": "text/x-python",
   "name": "python",
   "nbconvert_exporter": "python",
   "pygments_lexer": "ipython3",
   "version": "3.4.2"
  }
 },
 "nbformat": 4,
 "nbformat_minor": 0
}
