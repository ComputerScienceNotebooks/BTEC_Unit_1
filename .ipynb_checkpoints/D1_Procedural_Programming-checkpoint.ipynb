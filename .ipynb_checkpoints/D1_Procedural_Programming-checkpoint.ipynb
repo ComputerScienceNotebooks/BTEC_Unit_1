{
 "cells": [
  {
   "cell_type": "markdown",
   "metadata": {},
   "source": [
    "## Statements"
   ]
  },
  {
   "cell_type": "markdown",
   "metadata": {},
   "source": [
    "In computer programming a statement can be thought of as the smallest standalone element of a procedural programming language. \n",
    "\n",
    "A program is formed by a sequence of one or more statements. \n",
    "\n",
    "A statement will have internal components (e.g., expressions)."
   ]
  },
  {
   "cell_type": "code",
   "execution_count": null,
   "metadata": {
    "collapsed": false
   },
   "outputs": [],
   "source": [
    "def sum( arg1, arg2 ):\n",
    "   # Add both the parameters and return them.\"\n",
    "   total = arg1 + arg2\n",
    "   print(\"Inside the function : \", total)\n",
    "   return total\n",
    "\n",
    "# Now you can call sum function\n",
    "total = sum( 10, 20 );\n",
    "print(\"Outside the function : \", total)\n"
   ]
  },
  {
   "cell_type": "markdown",
   "metadata": {},
   "source": [
    "## Blocks"
   ]
  },
  {
   "cell_type": "markdown",
   "metadata": {},
   "source": [
    "A block or code block is a section of code which is grouped together.\n",
    "\n",
    "One of the most distinctive features of Python is its use of indentation to mark blocks of code. \n"
   ]
  },
  {
   "cell_type": "code",
   "execution_count": null,
   "metadata": {
    "collapsed": false
   },
   "outputs": [],
   "source": [
    "pwd = input('Enter your password')\n",
    "\n",
    "if pwd == 'apple':\n",
    "    print('Logging on ...')\n",
    "else:\n",
    "    print('Incorrect password.')\n",
    "\n",
    "print('All done!')"
   ]
  },
  {
   "cell_type": "markdown",
   "metadata": {},
   "source": [
    "Run the following program. What do you think is wrong with the program? Can you debug it?"
   ]
  },
  {
   "cell_type": "code",
   "execution_count": null,
   "metadata": {
    "collapsed": false
   },
   "outputs": [],
   "source": [
    "C = -60; dC = 2\n",
    "while C <= 60:\n",
    "    F = (9.0/5)*C + 32\n",
    "    print(C, F)\n",
    "    #input('Press enter to continue...')\n",
    "    C = C + dC "
   ]
  },
  {
   "cell_type": "markdown",
   "metadata": {},
   "source": [
    "## Procedures/Functions/Sub-Routines"
   ]
  },
  {
   "cell_type": "markdown",
   "metadata": {
    "collapsed": true
   },
   "source": [
    "Functions and procedures are the basic building blocks of programs. They are small sections of code that are used to perform a particular task.\n"
   ]
  },
  {
   "cell_type": "raw",
   "metadata": {},
   "source": [
    "def function-name(Parameter list):\n",
    "    statements, i.e. the function body"
   ]
  },
  {
   "cell_type": "markdown",
   "metadata": {},
   "source": [
    "Variable names are by default local to the function, in which they get defined.\n",
    "\n",
    "Run and check the output of the following code snippets."
   ]
  },
  {
   "cell_type": "code",
   "execution_count": null,
   "metadata": {
    "collapsed": false
   },
   "outputs": [],
   "source": [
    "def f(): \n",
    "    print(s)\n",
    "s = \"Python\"\n",
    "f()"
   ]
  },
  {
   "cell_type": "code",
   "execution_count": null,
   "metadata": {
    "collapsed": false
   },
   "outputs": [],
   "source": [
    "def f(): \n",
    "    s = \"Perl\"\n",
    "    print(s) \n",
    "\n",
    "\n",
    "s = \"Python\"\n",
    "f()\n",
    "print(s)"
   ]
  },
  {
   "cell_type": "code",
   "execution_count": null,
   "metadata": {
    "collapsed": false
   },
   "outputs": [],
   "source": [
    "def f(): \n",
    "    print(s)\n",
    "    s = \"Perl\"\n",
    "    print(s)\n",
    "\n",
    "\n",
    "s = \"Python\" \n",
    "f()\n",
    "print(s)"
   ]
  },
  {
   "cell_type": "code",
   "execution_count": null,
   "metadata": {
    "collapsed": false
   },
   "outputs": [],
   "source": [
    "def f():\n",
    "    global s\n",
    "    print(s)\n",
    "    s = \"dog\"\n",
    "    print(s) \n",
    "s = \"cat\" \n",
    "f()\n",
    "print(s)"
   ]
  },
  {
   "cell_type": "markdown",
   "metadata": {},
   "source": [
    "## Exam questions"
   ]
  },
  {
   "cell_type": "markdown",
   "metadata": {},
   "source": [
    "PrinterFix is a company that specialises in fixing broken printers. \n",
    "\n",
    "It has set up a program that will ask its customer how many problems they have and then the program will make suggestions on how to fix their problem(s)."
   ]
  },
  {
   "cell_type": "markdown",
   "metadata": {},
   "source": [
    "** Q1.** The programming code uses a variable called ‘problems.’ **[4]**\n",
    "\n",
    "A user enters the following data.\n",
    "\n",
    "**3, YES, YES, NO, YES**\n",
    "\n",
    "Assuming that the programming code works correctly, show the value the variable ‘problems’ would hold after each item of data is entered.\n",
    "\n",
    "You are advised to show your working."
   ]
  },
  {
   "cell_type": "code",
   "execution_count": null,
   "metadata": {
    "collapsed": false
   },
   "outputs": [],
   "source": [
    "import pandas as pd\n",
    "df = pd.DataFrame({\"Problems Value\":[3,'','','',''], \"Data\":[3, 'YES', 'YES', 'NO','YES']})"
   ]
  },
  {
   "cell_type": "code",
   "execution_count": null,
   "metadata": {
    "collapsed": false
   },
   "outputs": [],
   "source": [
    "df"
   ]
  },
  {
   "cell_type": "markdown",
   "metadata": {},
   "source": [
    "**Q2.** The programmer has created a function called ‘solved’. It is shown in part D of the code. \n",
    "\n",
    "Explain two reasons why programmers use functions in their code. **[4]**"
   ]
  },
  {
   "cell_type": "markdown",
   "metadata": {},
   "source": [
    "**Reason 1** ..."
   ]
  },
  {
   "cell_type": "markdown",
   "metadata": {},
   "source": [
    "**Reason 2** ..."
   ]
  },
  {
   "cell_type": "markdown",
   "metadata": {},
   "source": [
    "**Q3.** Explain why the function in part D needs to be defined before it is called. **[4]**"
   ]
  },
  {
   "cell_type": "markdown",
   "metadata": {},
   "source": [
    "**Q4.** Explain why the ‘global’ command is used with the variable ‘problems’ in part D. **[3]**"
   ]
  },
  {
   "cell_type": "markdown",
   "metadata": {},
   "source": [
    "**Q5.** The code if problems >=0: in part E produces the following error when it is run as shown in Section 2 of the Information Booklet.\n",
    "￼\n",
    "\n",
    "**TypeError: unsupported operand type(s) for -: ‘str’ and ‘int’**\n",
    "\n",
    "Explain why the programmer would received this error message. **[3]**"
   ]
  },
  {
   "cell_type": "code",
   "execution_count": null,
   "metadata": {
    "collapsed": true
   },
   "outputs": [],
   "source": []
  }
 ],
 "metadata": {
  "anaconda-cloud": {},
  "kernelspec": {
   "display_name": "Python [default]",
   "language": "python",
   "name": "python3"
  },
  "language_info": {
   "codemirror_mode": {
    "name": "ipython",
    "version": 3
   },
   "file_extension": ".py",
   "mimetype": "text/x-python",
   "name": "python",
   "nbconvert_exporter": "python",
   "pygments_lexer": "ipython3",
   "version": "3.5.2"
  }
 },
 "nbformat": 4,
 "nbformat_minor": 1
}
