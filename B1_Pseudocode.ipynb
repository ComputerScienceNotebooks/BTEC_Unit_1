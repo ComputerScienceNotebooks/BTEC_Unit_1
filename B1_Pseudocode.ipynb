{
 "cells": [
  {
   "cell_type": "markdown",
   "metadata": {
    "slideshow": {
     "slide_type": "slide"
    }
   },
   "source": [
    "# Pseudocode"
   ]
  },
  {
   "cell_type": "markdown",
   "metadata": {
    "slideshow": {
     "slide_type": "slide"
    }
   },
   "source": [
    "## Lesson objectives"
   ]
  },
  {
   "cell_type": "markdown",
   "metadata": {
    "slideshow": {
     "slide_type": "subslide"
    }
   },
   "source": [
    "* Identify decisions, loops and assignments in pseudocode\n",
    "* Recognise the key syntax in pseudocode\n",
    "* Create solutions using pseudocode\n"
   ]
  },
  {
   "cell_type": "markdown",
   "metadata": {
    "slideshow": {
     "slide_type": "slide"
    }
   },
   "source": [
    "## Basic operations in pseudocode\n",
    "sequence \n",
    "\n",
    "structure:\n",
    "* hierarchy\n",
    "* indentation\n",
    "\n",
    "operations:\n",
    "* BEGIN\n",
    "* END\n",
    "* INPUT\n",
    "* OUTPUT\n",
    "* PRINT\n",
    "* READ\n",
    "* WRITE\n",
    "\n",
    "decisions: \n",
    "* IF \n",
    "* THEN\n",
    "* ELSE\n",
    "* ELSEIF (ELIF)\n",
    "* WHEN\n",
    "\n",
    "repetition:\n",
    "* FOR\n",
    "* REPEAT UNTIL\n",
    "* WHILE\n",
    "* WHILE NOT."
   ]
  },
  {
   "cell_type": "markdown",
   "metadata": {
    "slideshow": {
     "slide_type": "subslide"
    }
   },
   "source": [
    "** Task 1 - What do you think this piece of code does? **"
   ]
  },
  {
   "cell_type": "raw",
   "metadata": {
    "slideshow": {
     "slide_type": "fragment"
    }
   },
   "source": [
    "BEGIN\n",
    "FOR k from 1 to 100:\n",
    "\tA[k] = A[k] + 1\n",
    "END"
   ]
  },
  {
   "cell_type": "markdown",
   "metadata": {
    "slideshow": {
     "slide_type": "fragment"
    }
   },
   "source": [
    "*Double click here and type in your answer*"
   ]
  },
  {
   "cell_type": "code",
   "execution_count": 23,
   "metadata": {
    "collapsed": false,
    "slideshow": {
     "slide_type": "fragment"
    }
   },
   "outputs": [
    {
     "name": "stdout",
     "output_type": "stream",
     "text": [
      "[67, 63, 65, 42, 45, 71, 70, 75, 36, 100, 8, 5, 56, 86, 30, 97, 19, 96, 62, 23, 80, 89, 38, 34, 31, 95, 84, 3, 92, 22, 57, 76, 99, 13, 7, 77, 1, 48, 14, 93, 66, 98, 73, 29, 27, 32, 51, 17, 72, 68, 37, 28, 15, 6, 90, 79, 4, 53, 41, 46, 44, 20, 21, 16, 94, 91, 64, 26, 33, 49, 59, 12, 52, 78, 85, 50, 87, 25, 58, 40, 11, 82, 18, 88, 2, 47, 39, 60, 54, 74, 83, 10, 35, 9, 61, 69, 43, 24, 55, 81]\n"
     ]
    }
   ],
   "source": [
    "# Python solution \n",
    "\n",
    "import random\n",
    "A = random.sample(range(100), 100)\n",
    "\n",
    "# Solution 1\n",
    "for K in range(100):\n",
    "    A[K] = A[K] + 1\n",
    "print(A)\n",
    "\n",
    "# Solution 2\n",
    "# for K in range (100):\n",
    "#     A.append(K)\n",
    "# print(A)"
   ]
  },
  {
   "cell_type": "markdown",
   "metadata": {},
   "source": [
    "** Task 2 - mini problem **\n",
    "\n",
    "Choose a problem from the board and construct the pseudocode to solve it.\n"
   ]
  },
  {
   "cell_type": "markdown",
   "metadata": {},
   "source": [
    "*Double click here and type in your answer*"
   ]
  },
  {
   "cell_type": "markdown",
   "metadata": {},
   "source": [
    "** Task 3 - for loop **\n",
    "\n",
    "The test scores of 100 students are held in an array ** scores **. Construct pseudocode to output the maximum score. \n",
    "\n"
   ]
  },
  {
   "cell_type": "markdown",
   "metadata": {},
   "source": [
    "*Double click here and type in your answer*"
   ]
  },
  {
   "cell_type": "markdown",
   "metadata": {},
   "source": [
    "Modify the pseudocode previously created to perform ONE of the followings:\n",
    "\n",
    "* to output the minimum score.\n",
    "* to output the number of scores above 50.\n",
    "* to output the average score.\n",
    "* to count the number of scores that lie between 50 and 80. (Clue: This is almost identical to exercise 2, except that scores have to be above 50 AND below 80.)\n"
   ]
  },
  {
   "cell_type": "markdown",
   "metadata": {},
   "source": [
    "** Task 4 - while loop **\n",
    "\n",
    "An array ** data ** contains daily Antarctic temperature readings in degrees Celsius. Only the first portion of the array is populated and a flag value of -999 is used to indicate the position of the last reading. Construct pseudocode to output the maximum temperature.\n"
   ]
  },
  {
   "cell_type": "markdown",
   "metadata": {},
   "source": [
    "*Double click here and type in your answer*"
   ]
  }
 ],
 "metadata": {
  "celltoolbar": "Slideshow",
  "kernelspec": {
   "display_name": "Python 3",
   "language": "python",
   "name": "python3"
  },
  "language_info": {
   "codemirror_mode": {
    "name": "ipython",
    "version": 3
   },
   "file_extension": ".py",
   "mimetype": "text/x-python",
   "name": "python",
   "nbconvert_exporter": "python",
   "pygments_lexer": "ipython3",
   "version": "3.4.2"
  }
 },
 "nbformat": 4,
 "nbformat_minor": 0
}
